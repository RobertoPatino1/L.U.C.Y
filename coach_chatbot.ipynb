{
 "cells": [
  {
   "cell_type": "code",
   "execution_count": 6,
   "metadata": {},
   "outputs": [],
   "source": [
    "# Importar librerias\n",
    "import numpy as np\n",
    "import pandas as pd\n",
    "import openai\n",
    "\n",
    "import os\n",
    "from dotenv import find_dotenv, load_dotenv"
   ]
  },
  {
   "cell_type": "markdown",
   "metadata": {},
   "source": [
    "# **Audio to Text**"
   ]
  },
  {
   "cell_type": "code",
   "execution_count": null,
   "metadata": {},
   "outputs": [],
   "source": [
    "# Transcribir el texto\n",
    "import whisper\n",
    "\n",
    "model = whisper.load_model(\"small\")\n",
    "result = model.transcribe(\"asertividad.mp3\")\n",
    "\n",
    "with open(\"transcripcion.txt\", \"w\") as f:\n",
    "    f.write(result[\"text\"])"
   ]
  },
  {
   "cell_type": "code",
   "execution_count": null,
   "metadata": {},
   "outputs": [],
   "source": [
    "# Separar por punto cada línea\n",
    "with open(\"transcripcion.txt\", \"r\") as f:\n",
    "    line = f.read().strip()\n",
    "    lines = line.split(\".\")"
   ]
  },
  {
   "cell_type": "code",
   "execution_count": null,
   "metadata": {},
   "outputs": [],
   "source": [
    "# Escibir un csv con cada una de las líneas\n",
    "file_name = \"chatbotAsertivo.csv\"\n",
    "with open(file_name, \"w\") as f:\n",
    "    f.write(\"|texto|\\n\")\n",
    "    for line in lines:\n",
    "        f.write(\"|\" + line.strip() + \"|\" + \"\\n\")"
   ]
  },
  {
   "cell_type": "markdown",
   "metadata": {},
   "source": [
    "# **Embeddings**"
   ]
  },
  {
   "cell_type": "markdown",
   "metadata": {},
   "source": [
    "**API Keys**"
   ]
  },
  {
   "cell_type": "code",
   "execution_count": 11,
   "metadata": {},
   "outputs": [],
   "source": [
    "# Definimos la API Key para vincular el cuaderno con nuestra cuenta de OpenAI\n",
    "load_dotenv(find_dotenv())\n",
    "openai.api_key = os.getenv(\"OPENAI_API_KEY\")\n",
    "openai.api_base = os.getenv(\"API_BASE\")"
   ]
  },
  {
   "cell_type": "markdown",
   "metadata": {},
   "source": [
    "## **Embeddings**"
   ]
  },
  {
   "cell_type": "code",
   "execution_count": 9,
   "metadata": {},
   "outputs": [],
   "source": [
    "# Obtener el embedding the un texto\n",
    "def get_embedding(text, model=\"text-embedding-ada-002\"):\n",
    "   if (repr(text) != 'nan'):\n",
    "      text = text.replace(\"\\n\", \"\")\n",
    "      return openai.Embedding.create(input = text, model=model)['data'][0]['embedding']"
   ]
  },
  {
   "cell_type": "code",
   "execution_count": 8,
   "metadata": {},
   "outputs": [],
   "source": [
    "# Texto raw to dataframe y guardar archivo pickle\n",
    "def embed_text(path=\"texto.csv\"):\n",
    "    conocimiento_df = pd.read_csv(path, sep=\"|\", encoding='latin-1', usecols=['texto']).dropna()\n",
    "    conocimiento_df['Embedding'] = conocimiento_df['texto'].apply(lambda x: get_embedding(x))\n",
    "    conocimiento_df.to_pickle('resources/embeddings.pkl')\n",
    "    return conocimiento_df"
   ]
  },
  {
   "cell_type": "code",
   "execution_count": 7,
   "metadata": {},
   "outputs": [],
   "source": [
    "# Obtener embedding previo u obtenerlo desde cero \n",
    "# texto_emb = pd.read_csv('embeddings.csv') # csv\n",
    "texto_emb = pd.read_pickle('resources/embeddings.pkl') # pkl\n",
    "\n",
    "# file_name = \"resources/asertividad.csv\"\n",
    "# texto_emb = embed_text(file_name) # Obtener de cero"
   ]
  },
  {
   "cell_type": "code",
   "execution_count": 13,
   "metadata": {},
   "outputs": [],
   "source": [
    "# Obtener la similitud entre dos vectores \n",
    "def cosine_similarity(a, b):\n",
    "    return np.dot(a, b) / (np.linalg.norm(a) * np.linalg.norm(b))"
   ]
  },
  {
   "cell_type": "markdown",
   "metadata": {},
   "source": [
    "## **Búsqueda**"
   ]
  },
  {
   "cell_type": "code",
   "execution_count": 2,
   "metadata": {},
   "outputs": [],
   "source": [
    "def buscar(busqueda, datos, n_resultados=5):\n",
    "    busqueda_embed = get_embedding(busqueda)\n",
    "\n",
    "    datos[\"Similitud\"] = datos['Embedding'].apply(lambda x: cosine_similarity(x, busqueda_embed))\n",
    "    datos = datos.sort_values(\"Similitud\", ascending=False)\n",
    "    return datos.iloc[:n_resultados][[\"texto\", \"Similitud\", \"Embedding\"]]"
   ]
  },
  {
   "cell_type": "code",
   "execution_count": 25,
   "metadata": {},
   "outputs": [],
   "source": [
    "# Búsqueda\n",
    "message = \"quiero decirle no a algo que no me gusta a una persona que quiero mucho, pero como lo hago?\"\n",
    "resultados_df = buscar(to_search, texto_emb, n_resultados=5)"
   ]
  },
  {
   "cell_type": "markdown",
   "metadata": {},
   "source": [
    "# **ChatBot** "
   ]
  },
  {
   "cell_type": "code",
   "execution_count": 38,
   "metadata": {},
   "outputs": [],
   "source": [
    "# Definir la orden predeterminada para el LLM\n",
    "template = \"\"\"\n",
    "Eres la mejor coach de mejora personal, para personas de entre 18 y 27 años.\n",
    "Te voy a compartir una solicitud de una de estas personas que pertenecen al público objetivo.\n",
    "Tu te encargarás de ofrecer la mejor respuesta acorde a qué dicen las mejores coach o incluso psicólogas respecto a la temática relacionada.\n",
    "Además tendrás que seguir cuidadosamente las siguientes TODAS las reglas de a continuación:\n",
    "\n",
    "1/ La respuesta debe ser demasiado similar o incluso idéntica a qué dicen las expertas en el tema, \n",
    "esto en función de su forma de hablar, sus argumentos lógicos y cualquier otro detalle que identifiques.\n",
    "\n",
    "Debajo se encuentra la solicitud:\n",
    "{message}\n",
    "\n",
    "Ahora te muestro a continuación qué dicen las expertas acerca del tema, con lo cual puedas basar tu respuesta:\n",
    "{experts}\n",
    "\n",
    "Por favor, escribe cómo le responderías a esta persona que ha acudido a ti como coach:\n",
    "\"\"\""
   ]
  },
  {
   "cell_type": "code",
   "execution_count": 17,
   "metadata": {},
   "outputs": [],
   "source": [
    "# Obtener arreglo de similitudes y pasarlo a tipo String\n",
    "arr_similitudes = resultados_df['texto'].to_numpy()\n",
    "str_similitudes = np.array2string(arr_similitudes)"
   ]
  },
  {
   "cell_type": "code",
   "execution_count": 41,
   "metadata": {},
   "outputs": [],
   "source": [
    "# Obtener el template con los datos a cargar para el LLM\n",
    "temp_to_load = template.format(message=message, experts=str_similitudes)"
   ]
  },
  {
   "cell_type": "code",
   "execution_count": 46,
   "metadata": {},
   "outputs": [
    {
     "name": "stdout",
     "output_type": "stream",
     "text": [
      "Entiendo que estás en una situación delicada y me alegra que hayas decidido buscar ayuda. Aquí te dejo algunos consejos que podrían serte útiles.\n",
      "\n",
      "Primero, recuerda que tus sentimientos y opiniones son válidos y merecen ser expresados. No necesitas estar de acuerdo con todo lo que la otra persona piensa o hace para mantener una relación armoniosa. De hecho, nuestras diferencias pueden coexistir en respeto y paz. No estamos obligados a pensar igual, opinar igual o tener los mismos gustos.\n",
      "\n",
      "Puedes usar frases como \"opino diferente\", \"estoy en desacuerdo\", \"no estoy de acuerdo pero lo respeto\", \"respeto pero no lo comparto\". Estas expresiones son una manera asertiva de comunicar tu desacuerdo sin invalidar o minimizar la perspectiva de la otra persona"
     ]
    }
   ],
   "source": [
    "response = openai.ChatCompletion.create(\n",
    "    model='gpt-4',\n",
    "    messages=[\n",
    "        {'role': 'user', 'content': temp_to_load},\n",
    "    ],\n",
    "    stream=True,\n",
    "    allow_fallback=True\n",
    ")\n",
    "\n",
    "for chunk in response:\n",
    "    print(chunk.choices[0].delta.get(\"content\", \"\"), end=\"\", flush=True)"
   ]
  },
  {
   "cell_type": "markdown",
   "metadata": {},
   "source": [
    "## Diferencias embeddings y chatgpt\n",
    "\n",
    "En respuesta a: \"quiero decirle no a algo que no me gusta a una persona que quiero mucho, pero como lo hago?\"\n",
    "\n",
    "**Embeddings**\n",
    "\n",
    "Entiendo que estás en una situación delicada y me alegra que hayas decidido buscar ayuda. Aquí te dejo algunos consejos que podrían serte útiles.\n",
    "\n",
    "Primero, recuerda que tus sentimientos y opiniones son válidos y merecen ser expresados. No necesitas estar de acuerdo con todo lo que la otra persona piensa o hace para mantener una relación armoniosa. De hecho, nuestras diferencias pueden coexistir en respeto y paz. No estamos obligados a pensar igual, opinar igual o tener los mismos gustos.\n",
    "\n",
    "Puedes usar frases como \"opino diferente\", \"estoy en desacuerdo\", \"no estoy de acuerdo pero lo respeto\", \"respeto pero no lo comparto\". Estas expresiones son una manera asertiva de comunicar tu desacuerdo sin invalidar o minimizar la perspectiva de la otra persona.\n",
    "\n",
    "**ChatGPT**\n",
    "\n",
    "Decir \"no\" a algo que no te gusta a una persona a la que aprecias puede ser un desafío, pero es importante establecer límites y comunicarte de manera honesta y respetuosa. Aquí hay algunos pasos que puedes seguir:\n",
    "\n",
    "1. **Escoge el momento adecuado:** Encuentra un momento en el que ambos estén relajados y tengan tiempo para hablar sin interrupciones. Evita hacerlo cuando estén enojados o tensos.\n",
    "\n",
    "2. **Prepárate:** Antes de hablar, piensa en tus razones para decir \"no\" y en cómo puedes explicar tu posición de manera clara y calmada.\n",
    "\n",
    "3. **Sé directo pero amable:** Comunica tu negativa de manera directa y honesta, pero hazlo de una manera amable y considerada. Evita rodeos o ambigüedades que puedan causar malentendidos.\n",
    "\n",
    "4. **Usa el \"yo\" en lugar del \"tú\":** Enfoca la conversación en tus propios sentimientos y necesidades en lugar de criticar o culpar a la otra persona. Por ejemplo, en lugar de decir \"tú siempre haces esto\", podrías decir \"yo me siento incómodo cuando...\"\n",
    "\n",
    "5. **Explica tus razones:** Si es apropiado, brinda una explicación de por qué estás diciendo \"no\". Ser transparente ayudará a la otra persona a entender tu punto de vista.\n",
    "\n",
    "6. **Ofrece alternativas:** Si es posible, sugiere alternativas que podrían funcionar mejor para ambas partes. Esto demuestra que estás comprometido en encontrar soluciones y que valoras la relación.\n",
    "\n",
    "7. **Escucha su respuesta:** Después de expresar tu posición, permite que la otra persona comparta sus pensamientos y sentimientos al respecto. Escuchar activamente muestra que te importa su perspectiva.\n",
    "\n",
    "8. **Mantén la calma:** Es posible que la otra persona no tome tu respuesta de manera positiva inicialmente. Mantén la calma y evita caer en discusiones o confrontaciones.\n",
    "\n",
    "9. **Reafirma tu aprecio:** Después de expresar tu negativa, reafirma tu aprecio por la persona. Hazles saber que tu decisión no afecta tus sentimientos hacia ellos.\n",
    "\n",
    "10. **Da tiempo:** A veces, las personas necesitan tiempo para procesar la información y tus razones. Dale espacio a la otra persona para pensar y responder en su propio tiempo.\n",
    "\n",
    "Recuerda que es natural sentir ansiedad o preocupación al decir \"no\", pero establecer límites saludables es esencial para mantener relaciones equilibradas. Una comunicación abierta y respetuosa es clave para mantener la conexión y el entendimiento mutuo. [ChatGPT Response](https://chat.openai.com/share/07d92e7c-0202-41dc-ad1e-5699bd5652b5)"
   ]
  },
  {
   "cell_type": "markdown",
   "metadata": {},
   "source": [
    "**Análisis**\n",
    "* Podemos apreciar que ChatGPT da respuestas que pueden sonar **comunes**. \n",
    "* Además acostumbra ser por el momento una respuesta mucho **más larga** que la ofrecida con el embedding bajo data previa.\n",
    "* Por último, me gustaría recalcar el hecho en el que por el momento la respuesta del embedding es mucho más directa a la **acción** en palabras concretas."
   ]
  }
 ],
 "metadata": {
  "kernelspec": {
   "display_name": "Python 3",
   "language": "python",
   "name": "python3"
  },
  "language_info": {
   "codemirror_mode": {
    "name": "ipython",
    "version": 3
   },
   "file_extension": ".py",
   "mimetype": "text/x-python",
   "name": "python",
   "nbconvert_exporter": "python",
   "pygments_lexer": "ipython3",
   "version": "3.11.4"
  },
  "orig_nbformat": 4
 },
 "nbformat": 4,
 "nbformat_minor": 2
}
